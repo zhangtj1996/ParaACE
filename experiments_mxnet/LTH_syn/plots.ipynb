{
 "cells": [
  {
   "cell_type": "code",
   "execution_count": 1,
   "metadata": {
    "collapsed": true
   },
   "outputs": [],
   "source": [
    "import numpy as np\n",
    "import matplotlib.pyplot as plt\n",
    "\n",
    "import os\n",
    "directorys=['LTH_syn_plot']  # temp models\n",
    "for directory in directorys:\n",
    "    if not os.path.exists(directory):\n",
    "        os.makedirs(directory)\n",
    "result=np.load('result.npy')"
   ]
  },
  {
   "cell_type": "code",
   "execution_count": 5,
   "metadata": {},
   "outputs": [
    {
     "data": {
      "image/png": "[encoded data removed]",
      "text/plain": [
       "<Figure size 432x288 with 1 Axes>"
      ]
     },
     "metadata": {
      "needs_background": "light"
     },
     "output_type": "display_data"
    }
   ],
   "source": [
    "df=result.reshape(50,int(len(result)/50))\n",
    "MaskLow,MaskUp,Maskmean,Ntr=[],[],[],[]\n",
    "for j in range(25):\n",
    "    i=1\n",
    "    MaskLow.append(np.mean(df[i*5:i*5+5,j])-min(df[i*5:i*5+5,j]))\n",
    "    MaskUp.append(max(df[i*5:i*5+5,j])-np.mean(df[i*5:i*5+5,j]))\n",
    "    #FCLow.append(np.mean(df[i*5:i*5+5,2])-min(df[i*5:i*5+5,2]))\n",
    "    #FCUp.append(max(df[i*5:i*5+5,2])-np.mean(df[i*5:i*5+5,2]))\n",
    "    Maskmean.append(np.mean(df[i*5:i*5+5,j]))\n",
    "    #FCmean.append(np.mean(df[i*5:i*5+5,2]))\n",
    "    Ntr.append(0.8**j*100)\n",
    "Maskerr= np.concatenate((np.array(MaskLow).reshape(1,len(MaskLow)),np.array(MaskUp).reshape(1,len(MaskUp))),axis=0)\n",
    "    #FCerr=np.concatenate((np.array(FCLow).reshape(1,len(FCLow)),np.array(FCUp).reshape(1,len(FCUp))),axis=0)\n",
    "fig, ax = plt.subplots()\n",
    "#ax.errorbar(Ntr, FCmean, xerr=100, yerr=FCerr,capthick=4)\n",
    "ax.errorbar(Ntr, Maskmean, xerr=0, yerr=Maskerr)\n",
    "    #plt.legend(['OverparaFC','ParaACE'])\n",
    "plt.xlabel('Percents of Weights Remaining')\n",
    "plt.ylabel('Test NRMSE')   \n",
    "plt.title('Synthetic dataset '+str(i+1)+', LTH') \n",
    "plt.xscale('log')\n",
    "ax.invert_xaxis()\n",
    "plt.xticks([0.5,1,5,20,50,100],[0.5,1,5,20,50,100])\n",
    "plt.savefig('LTH_syn_plot/LTHsyn'+str(i+1)+'.pdf',bbox_inches='tight',dpi='figure',pad_inches=0.1)\n",
    "\n",
    "plt.show()"
   ]
  },
  {
   "cell_type": "code",
   "execution_count": 3,
   "metadata": {},
   "outputs": [
    {
     "name": "stdout",
     "output_type": "stream",
     "text": [
      "0.026899707\n",
      "0.043760933\n",
      "0.032375075\n",
      "0.032312255\n",
      "0.038636867\n",
      "0.033031326\n",
      "0.01812317\n",
      "0.021124717\n",
      "0.029177096\n",
      "0.024782972\n"
     ]
    }
   ],
   "source": [
    "for dataset in range(10):\n",
    "    print(np.mean(df[dataset*5:dataset*5+5,13]))"
   ]
  },
  {
   "cell_type": "code",
   "execution_count": 4,
   "metadata": {},
   "outputs": [
    {
     "data": {
      "text/plain": [
       "0.03002241"
      ]
     },
     "execution_count": 4,
     "metadata": {},
     "output_type": "execute_result"
    }
   ],
   "source": [
    "np.mean(df[:,13])"
   ]
  }
 ],
 "metadata": {
  "kernelspec": {
   "display_name": "tianjian",
   "language": "python",
   "name": "tianjian"
  },
  "language_info": {
   "codemirror_mode": {
    "name": "ipython",
    "version": 3
   },
   "file_extension": ".py",
   "mimetype": "text/x-python",
   "name": "python",
   "nbconvert_exporter": "python",
   "pygments_lexer": "ipython3",
   "version": "3.7.3"
  }
 },
 "nbformat": 4,
 "nbformat_minor": 2
}
